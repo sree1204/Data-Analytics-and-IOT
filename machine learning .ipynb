{
 "cells": [
  {
   "cell_type": "markdown",
   "id": "fb981597",
   "metadata": {},
   "source": [
    "## getting all the libraries "
   ]
  },
  {
   "cell_type": "code",
   "execution_count": 51,
   "id": "269b4867",
   "metadata": {},
   "outputs": [],
   "source": [
    "import pandas as pd\n",
    "import numpy as np\n",
    "from datetime import datetime\n",
    "from sklearn.linear_model import LinearRegression\n",
    "from sklearn.preprocessing import OneHotEncoder\n",
    "from sklearn.preprocessing import LabelEncoder\n",
    "from sklearn.ensemble import RandomForestClassifier\n",
    "import matplotlib.pyplot as plt\n",
    "import seaborn as sns"
   ]
  },
  {
   "cell_type": "markdown",
   "id": "958c96a0",
   "metadata": {},
   "source": [
    "### importing the data "
   ]
  },
  {
   "cell_type": "code",
   "execution_count": 52,
   "id": "35140b34",
   "metadata": {
    "scrolled": true
   },
   "outputs": [
    {
     "data": {
      "text/html": [
       "<div>\n",
       "<style scoped>\n",
       "    .dataframe tbody tr th:only-of-type {\n",
       "        vertical-align: middle;\n",
       "    }\n",
       "\n",
       "    .dataframe tbody tr th {\n",
       "        vertical-align: top;\n",
       "    }\n",
       "\n",
       "    .dataframe thead th {\n",
       "        text-align: right;\n",
       "    }\n",
       "</style>\n",
       "<table border=\"1\" class=\"dataframe\">\n",
       "  <thead>\n",
       "    <tr style=\"text-align: right;\">\n",
       "      <th></th>\n",
       "      <th>CRASH TIME</th>\n",
       "      <th>ZIP CODE</th>\n",
       "      <th>LATITUDE</th>\n",
       "      <th>LONGITUDE</th>\n",
       "      <th>COLLISION_ID</th>\n",
       "      <th>BOROUGH</th>\n",
       "    </tr>\n",
       "  </thead>\n",
       "  <tbody>\n",
       "    <tr>\n",
       "      <th>0</th>\n",
       "      <td>15:40:00</td>\n",
       "      <td>10466.0</td>\n",
       "      <td>40.89210</td>\n",
       "      <td>-73.833760</td>\n",
       "      <td>4342908</td>\n",
       "      <td>BRONX</td>\n",
       "    </tr>\n",
       "    <tr>\n",
       "      <th>1</th>\n",
       "      <td>21:00:00</td>\n",
       "      <td>11221.0</td>\n",
       "      <td>40.69050</td>\n",
       "      <td>-73.919914</td>\n",
       "      <td>4343555</td>\n",
       "      <td>BROOKLYN</td>\n",
       "    </tr>\n",
       "    <tr>\n",
       "      <th>2</th>\n",
       "      <td>18:20:00</td>\n",
       "      <td>NaN</td>\n",
       "      <td>40.81650</td>\n",
       "      <td>-73.946556</td>\n",
       "      <td>4343142</td>\n",
       "      <td>NaN</td>\n",
       "    </tr>\n",
       "    <tr>\n",
       "      <th>3</th>\n",
       "      <td>00:00:00</td>\n",
       "      <td>10459.0</td>\n",
       "      <td>40.82472</td>\n",
       "      <td>-73.892960</td>\n",
       "      <td>4343588</td>\n",
       "      <td>BRONX</td>\n",
       "    </tr>\n",
       "    <tr>\n",
       "      <th>4</th>\n",
       "      <td>17:10:00</td>\n",
       "      <td>11203.0</td>\n",
       "      <td>40.64989</td>\n",
       "      <td>-73.933890</td>\n",
       "      <td>4342953</td>\n",
       "      <td>BROOKLYN</td>\n",
       "    </tr>\n",
       "  </tbody>\n",
       "</table>\n",
       "</div>"
      ],
      "text/plain": [
       "  CRASH TIME  ZIP CODE  LATITUDE  LONGITUDE  COLLISION_ID   BOROUGH\n",
       "0   15:40:00   10466.0  40.89210 -73.833760       4342908     BRONX\n",
       "1   21:00:00   11221.0  40.69050 -73.919914       4343555  BROOKLYN\n",
       "2   18:20:00       NaN  40.81650 -73.946556       4343142       NaN\n",
       "3   00:00:00   10459.0  40.82472 -73.892960       4343588     BRONX\n",
       "4   17:10:00   11203.0  40.64989 -73.933890       4342953  BROOKLYN"
      ]
     },
     "execution_count": 52,
     "metadata": {},
     "output_type": "execute_result"
    }
   ],
   "source": [
    "# Load data\n",
    "d = pd.read_csv(\"NYC Accidents 2020.csv\")\n",
    "\n",
    "\n",
    "# getting the columns \n",
    "columns_of_interest = [\"CRASH TIME\", \"ZIP CODE\", \"LATITUDE\", \"LONGITUDE\", \"COLLISION_ID\", \"BOROUGH\"]\n",
    "data = d[columns_of_interest]\n",
    "\n",
    "# printing the to 5 rows \n",
    "data.head()\n"
   ]
  },
  {
   "cell_type": "markdown",
   "id": "f30467ec",
   "metadata": {},
   "source": [
    "#### changing the Time column "
   ]
  },
  {
   "cell_type": "code",
   "execution_count": 53,
   "id": "0dab8f8d",
   "metadata": {},
   "outputs": [
    {
     "name": "stderr",
     "output_type": "stream",
     "text": [
      "/var/folders/lg/b9vtb_xx1qv8jkcb20xprp600000gn/T/ipykernel_2054/2102829205.py:1: SettingWithCopyWarning: \n",
      "A value is trying to be set on a copy of a slice from a DataFrame.\n",
      "Try using .loc[row_indexer,col_indexer] = value instead\n",
      "\n",
      "See the caveats in the documentation: https://pandas.pydata.org/pandas-docs/stable/user_guide/indexing.html#returning-a-view-versus-a-copy\n",
      "  data['CRASH TIME'] = [datetime.strptime(x, '%H:%M:%S') for x in data['CRASH TIME']]\n",
      "/var/folders/lg/b9vtb_xx1qv8jkcb20xprp600000gn/T/ipykernel_2054/2102829205.py:2: SettingWithCopyWarning: \n",
      "A value is trying to be set on a copy of a slice from a DataFrame.\n",
      "Try using .loc[row_indexer,col_indexer] = value instead\n",
      "\n",
      "See the caveats in the documentation: https://pandas.pydata.org/pandas-docs/stable/user_guide/indexing.html#returning-a-view-versus-a-copy\n",
      "  data['CRASH TIME'] = [x.hour * 3600 + x.minute * 60 + x.second for x in data['CRASH TIME']]\n"
     ]
    }
   ],
   "source": [
    "data['CRASH TIME'] = [datetime.strptime(x, '%H:%M:%S') for x in data['CRASH TIME']]\n",
    "data['CRASH TIME'] = [x.hour * 3600 + x.minute * 60 + x.second for x in data['CRASH TIME']]"
   ]
  },
  {
   "cell_type": "markdown",
   "id": "ec209b58",
   "metadata": {},
   "source": [
    "The first line of code uses a list comprehension and the datetime.strptime function to convert each string in the CRASH TIME column to a datetime object. The '%H:%M:%S' format string specifies that the input string should be interpreted as hours, minutes, and seconds.\n",
    "\n",
    "The second line of code then uses another list comprehension to convert each datetime object to the total number of seconds since midnight, which is calculated as the hour (0-23) multiplied by the number of seconds in an hour (3600), plus the minute (0-59) multiplied by the number of seconds in a minute (60), plus the second (0-59).\n",
    "\n",
    "By converting the CRASH TIME column to a numerical format representing the number of seconds since midnight, this code makes it possible to use this column as a feature in a machine learning model."
   ]
  },
  {
   "cell_type": "markdown",
   "id": "81e7ac3a",
   "metadata": {},
   "source": [
    "#### Null values check "
   ]
  },
  {
   "cell_type": "code",
   "execution_count": 54,
   "id": "529a4557",
   "metadata": {},
   "outputs": [
    {
     "name": "stdout",
     "output_type": "stream",
     "text": [
      "CRASH TIME          0\n",
      "ZIP CODE        25747\n",
      "LATITUDE         5946\n",
      "LONGITUDE        5946\n",
      "COLLISION_ID        0\n",
      "BOROUGH         25741\n",
      "dtype: int64\n"
     ]
    }
   ],
   "source": [
    "# check for thge missing values \n",
    "print(data.isnull().sum())"
   ]
  },
  {
   "cell_type": "code",
   "execution_count": 55,
   "id": "59816df6",
   "metadata": {},
   "outputs": [
    {
     "name": "stdout",
     "output_type": "stream",
     "text": [
      "CRASH TIME      0\n",
      "ZIP CODE        0\n",
      "LATITUDE        0\n",
      "LONGITUDE       0\n",
      "COLLISION_ID    0\n",
      "BOROUGH         0\n",
      "dtype: int64\n"
     ]
    }
   ],
   "source": [
    "# clear the missing values \n",
    "data = data.dropna()\n",
    "\n",
    "# Check for missing values\n",
    "print(data.isnull().sum())"
   ]
  },
  {
   "cell_type": "markdown",
   "id": "7e49ccd1",
   "metadata": {},
   "source": [
    "## First machine learning model LinearRegression"
   ]
  },
  {
   "cell_type": "code",
   "execution_count": 56,
   "id": "7ea48baa",
   "metadata": {},
   "outputs": [],
   "source": [
    "# Convert BOROUGH column to numerical format using LabelEncoder\n",
    "le = LabelEncoder()\n",
    "data['BOROUGH'] = le.fit_transform(data['BOROUGH'])\n",
    "\n",
    "# Create feature matrix and target vector\n",
    "X = data.drop(columns=[\"BOROUGH\"])\n",
    "y = data[\"BOROUGH\"]\n",
    "\n",
    "# Split data into training and testing sets\n",
    "from sklearn.model_selection import train_test_split\n",
    "X_train, X_test, y_train, y_test = train_test_split(X, y, test_size=0.2, random_state=42)\n",
    "\n",
    "# Fit model and make predictions\n",
    "lr = LinearRegression()\n",
    "lr.fit(X_train, y_train)\n",
    "y_pred = lr.predict(X_test)\n"
   ]
  },
  {
   "cell_type": "code",
   "execution_count": 57,
   "id": "9e490241",
   "metadata": {},
   "outputs": [
    {
     "name": "stdout",
     "output_type": "stream",
     "text": [
      "Mean Squared Error: 1.2168543051505585\n",
      "R-Squared Score: 0.09484229870539262\n"
     ]
    }
   ],
   "source": [
    "# Evaluate model performance\n",
    "from sklearn.metrics import mean_squared_error, r2_score\n",
    "mse = mean_squared_error(y_test, y_pred)\n",
    "r2 = r2_score(y_test, y_pred)\n",
    "print(\"Mean Squared Error:\", mse)\n",
    "print(\"R-Squared Score:\", r2)\n"
   ]
  },
  {
   "cell_type": "code",
   "execution_count": 58,
   "id": "675616f1",
   "metadata": {},
   "outputs": [
    {
     "data": {
      "image/png": "[encoded data removed]",
      "text/plain": [
       "<Figure size 640x480 with 1 Axes>"
      ]
     },
     "metadata": {},
     "output_type": "display_data"
    },
    {
     "data": {
      "image/png": "[encoded data removed]",
      "text/plain": [
       "<Figure size 640x480 with 1 Axes>"
      ]
     },
     "metadata": {},
     "output_type": "display_data"
    }
   ],
   "source": [
    "# Plot actual vs predicted values\n",
    "fig, ax = plt.subplots()\n",
    "ax.scatter(y_test, y_pred, edgecolors=(0, 0, 0))\n",
    "ax.plot([y_test.min(), y_test.max()], [y_test.min(), y_test.max()], 'r--', lw=3)\n",
    "ax.set_xlabel('Actual')\n",
    "ax.set_ylabel('Predicted')\n",
    "ax.set_title('Actual vs. Predicted Values')\n",
    "plt.show()\n",
    "\n",
    "# Plot residuals\n",
    "fig, ax = plt.subplots()\n",
    "ax.scatter(y_test, y_test - y_pred, edgecolors=(0, 0, 0))\n",
    "ax.plot([y_test.min(), y_test.max()], [0, 0], 'r--', lw=3)\n",
    "ax.set_xlabel('Actual')\n",
    "ax.set_ylabel('Residuals')\n",
    "ax.set_title('Residuals Plot')\n",
    "plt.show()\n"
   ]
  },
  {
   "cell_type": "markdown",
   "id": "15bcf768",
   "metadata": {},
   "source": [
    "The first plot shows the actual versus predicted values, with a line indicating a perfect match. The second plot shows the residuals, which are the differences between the actual and predicted values. The residuals should be normally distributed around zero if the model is a good fit.\n",
    "\n",
    "You can customize these plots to your liking, and you can also create additional visualizations to better understand your model's performance."
   ]
  },
  {
   "cell_type": "markdown",
   "id": "dc04987c",
   "metadata": {},
   "source": [
    "# second code RandomForestClassifier"
   ]
  },
  {
   "cell_type": "code",
   "execution_count": 59,
   "id": "02b66626",
   "metadata": {},
   "outputs": [],
   "source": [
    "# Split data into training and testing sets\n",
    "from sklearn.model_selection import train_test_split\n",
    "X_train, X_test, y_train, y_test = train_test_split(X, y, test_size=0.2, random_state=42)\n",
    "\n",
    "# Fit model and make predictions\n",
    "rf = RandomForestClassifier(n_estimators=100, random_state=42)\n",
    "rf.fit(X_train, y_train)\n",
    "y_pred = rf.predict(X_test)"
   ]
  },
  {
   "cell_type": "code",
   "execution_count": 60,
   "id": "192b6efd",
   "metadata": {},
   "outputs": [
    {
     "name": "stdout",
     "output_type": "stream",
     "text": [
      "Accuracy: 0.9995810640971932\n",
      "Confusion Matrix:\n",
      " [[1768    0    0    0    0]\n",
      " [   0 3304    0    0    0]\n",
      " [   0    0 1459    0    0]\n",
      " [   0    4    0 2755    0]\n",
      " [   0    0    0    0  258]]\n"
     ]
    }
   ],
   "source": [
    "# Evaluate model performance\n",
    "from sklearn.metrics import accuracy_score, confusion_matrix\n",
    "accuracy = accuracy_score(y_test, y_pred)\n",
    "cm = confusion_matrix(y_test, y_pred)\n",
    "print(\"Accuracy:\", accuracy)\n",
    "print(\"Confusion Matrix:\\n\", cm)"
   ]
  },
  {
   "cell_type": "code",
   "execution_count": 61,
   "id": "fa417d9c",
   "metadata": {
    "scrolled": true
   },
   "outputs": [
    {
     "data": {
      "image/png": "[encoded data removed]",
      "text/plain": [
       "<Figure size 800x600 with 2 Axes>"
      ]
     },
     "metadata": {},
     "output_type": "display_data"
    }
   ],
   "source": [
    "# Plot confusion matrix\n",
    "plt.figure(figsize=(8,6))\n",
    "sns.heatmap(cm, annot=True, cmap=\"Blues\", fmt=\"d\")\n",
    "plt.title(\"Confusion Matrix\")\n",
    "plt.xlabel(\"Predicted Label\")\n",
    "plt.ylabel(\"True Label\")\n",
    "plt.show()"
   ]
  },
  {
   "cell_type": "markdown",
   "id": "a8ba5fa0",
   "metadata": {},
   "source": [
    "The confusion_matrix function from sklearn.metrics is used to calculate the confusion matrix based on the predicted and true labels. The sns.heatmap function is used to plot the confusion matrix as a heatmap, with the predicted labels on the x-axis and the true labels on the y-axis. The annot=True parameter adds the numerical values to each cell of the heatmap, and the cmap=\"Blues\" parameter sets the color scheme for the heatmap. Finally, the plt.title, plt.xlabel, and plt.ylabel functions are used to add labels to the plot."
   ]
  },
  {
   "cell_type": "code",
   "execution_count": 62,
   "id": "90682d58",
   "metadata": {},
   "outputs": [],
   "source": [
    "X_test[\"pred_BOROUGH\"]=y_pred\n",
    "X_test[\"actual_BOROUGH\"]=y_test"
   ]
  },
  {
   "cell_type": "code",
   "execution_count": 66,
   "id": "c325d2b0",
   "metadata": {},
   "outputs": [
    {
     "data": {
      "text/html": [
       "<div>\n",
       "<style scoped>\n",
       "    .dataframe tbody tr th:only-of-type {\n",
       "        vertical-align: middle;\n",
       "    }\n",
       "\n",
       "    .dataframe tbody tr th {\n",
       "        vertical-align: top;\n",
       "    }\n",
       "\n",
       "    .dataframe thead th {\n",
       "        text-align: right;\n",
       "    }\n",
       "</style>\n",
       "<table border=\"1\" class=\"dataframe\">\n",
       "  <thead>\n",
       "    <tr style=\"text-align: right;\">\n",
       "      <th></th>\n",
       "      <th>CRASH TIME</th>\n",
       "      <th>ZIP CODE</th>\n",
       "      <th>LATITUDE</th>\n",
       "      <th>LONGITUDE</th>\n",
       "      <th>COLLISION_ID</th>\n",
       "      <th>pred_BOROUGH</th>\n",
       "      <th>actual_BOROUGH</th>\n",
       "    </tr>\n",
       "  </thead>\n",
       "  <tbody>\n",
       "    <tr>\n",
       "      <th>5880</th>\n",
       "      <td>58860</td>\n",
       "      <td>10312.0</td>\n",
       "      <td>40.559044</td>\n",
       "      <td>-74.18024</td>\n",
       "      <td>4337290</td>\n",
       "      <td>4</td>\n",
       "      <td>4</td>\n",
       "    </tr>\n",
       "    <tr>\n",
       "      <th>790</th>\n",
       "      <td>82500</td>\n",
       "      <td>10459.0</td>\n",
       "      <td>40.822440</td>\n",
       "      <td>-73.88590</td>\n",
       "      <td>4342369</td>\n",
       "      <td>0</td>\n",
       "      <td>0</td>\n",
       "    </tr>\n",
       "    <tr>\n",
       "      <th>40447</th>\n",
       "      <td>48300</td>\n",
       "      <td>11236.0</td>\n",
       "      <td>40.647045</td>\n",
       "      <td>-73.91358</td>\n",
       "      <td>4300083</td>\n",
       "      <td>1</td>\n",
       "      <td>1</td>\n",
       "    </tr>\n",
       "    <tr>\n",
       "      <th>62623</th>\n",
       "      <td>43200</td>\n",
       "      <td>11226.0</td>\n",
       "      <td>40.651695</td>\n",
       "      <td>-73.94968</td>\n",
       "      <td>4279788</td>\n",
       "      <td>1</td>\n",
       "      <td>1</td>\n",
       "    </tr>\n",
       "    <tr>\n",
       "      <th>20305</th>\n",
       "      <td>47400</td>\n",
       "      <td>11423.0</td>\n",
       "      <td>40.721060</td>\n",
       "      <td>-73.75945</td>\n",
       "      <td>4323062</td>\n",
       "      <td>3</td>\n",
       "      <td>3</td>\n",
       "    </tr>\n",
       "    <tr>\n",
       "      <th>...</th>\n",
       "      <td>...</td>\n",
       "      <td>...</td>\n",
       "      <td>...</td>\n",
       "      <td>...</td>\n",
       "      <td>...</td>\n",
       "      <td>...</td>\n",
       "      <td>...</td>\n",
       "    </tr>\n",
       "    <tr>\n",
       "      <th>62833</th>\n",
       "      <td>36000</td>\n",
       "      <td>11101.0</td>\n",
       "      <td>40.741028</td>\n",
       "      <td>-73.93432</td>\n",
       "      <td>4279649</td>\n",
       "      <td>3</td>\n",
       "      <td>3</td>\n",
       "    </tr>\n",
       "    <tr>\n",
       "      <th>40311</th>\n",
       "      <td>71400</td>\n",
       "      <td>11238.0</td>\n",
       "      <td>40.683266</td>\n",
       "      <td>-73.96587</td>\n",
       "      <td>4299993</td>\n",
       "      <td>1</td>\n",
       "      <td>1</td>\n",
       "    </tr>\n",
       "    <tr>\n",
       "      <th>39328</th>\n",
       "      <td>44400</td>\n",
       "      <td>11215.0</td>\n",
       "      <td>40.672794</td>\n",
       "      <td>-73.98329</td>\n",
       "      <td>4302473</td>\n",
       "      <td>1</td>\n",
       "      <td>1</td>\n",
       "    </tr>\n",
       "    <tr>\n",
       "      <th>17740</th>\n",
       "      <td>28800</td>\n",
       "      <td>10456.0</td>\n",
       "      <td>40.838360</td>\n",
       "      <td>-73.91271</td>\n",
       "      <td>4324611</td>\n",
       "      <td>0</td>\n",
       "      <td>0</td>\n",
       "    </tr>\n",
       "    <tr>\n",
       "      <th>74858</th>\n",
       "      <td>82200</td>\n",
       "      <td>11373.0</td>\n",
       "      <td>40.738514</td>\n",
       "      <td>-73.86846</td>\n",
       "      <td>4267744</td>\n",
       "      <td>3</td>\n",
       "      <td>3</td>\n",
       "    </tr>\n",
       "  </tbody>\n",
       "</table>\n",
       "<p>9548 rows × 7 columns</p>\n",
       "</div>"
      ],
      "text/plain": [
       "       CRASH TIME  ZIP CODE   LATITUDE  LONGITUDE  COLLISION_ID  pred_BOROUGH  \\\n",
       "5880        58860   10312.0  40.559044  -74.18024       4337290             4   \n",
       "790         82500   10459.0  40.822440  -73.88590       4342369             0   \n",
       "40447       48300   11236.0  40.647045  -73.91358       4300083             1   \n",
       "62623       43200   11226.0  40.651695  -73.94968       4279788             1   \n",
       "20305       47400   11423.0  40.721060  -73.75945       4323062             3   \n",
       "...           ...       ...        ...        ...           ...           ...   \n",
       "62833       36000   11101.0  40.741028  -73.93432       4279649             3   \n",
       "40311       71400   11238.0  40.683266  -73.96587       4299993             1   \n",
       "39328       44400   11215.0  40.672794  -73.98329       4302473             1   \n",
       "17740       28800   10456.0  40.838360  -73.91271       4324611             0   \n",
       "74858       82200   11373.0  40.738514  -73.86846       4267744             3   \n",
       "\n",
       "       actual_BOROUGH  \n",
       "5880                4  \n",
       "790                 0  \n",
       "40447               1  \n",
       "62623               1  \n",
       "20305               3  \n",
       "...               ...  \n",
       "62833               3  \n",
       "40311               1  \n",
       "39328               1  \n",
       "17740               0  \n",
       "74858               3  \n",
       "\n",
       "[9548 rows x 7 columns]"
      ]
     },
     "execution_count": 66,
     "metadata": {},
     "output_type": "execute_result"
    }
   ],
   "source": [
    "X_test"
   ]
  },
  {
   "cell_type": "code",
   "execution_count": null,
   "id": "44b857c2",
   "metadata": {},
   "outputs": [],
   "source": []
  }
 ],
 "metadata": {
  "kernelspec": {
   "display_name": "Python 3 (ipykernel)",
   "language": "python",
   "name": "python3"
  },
  "language_info": {
   "codemirror_mode": {
    "name": "ipython",
    "version": 3
   },
   "file_extension": ".py",
   "mimetype": "text/x-python",
   "name": "python",
   "nbconvert_exporter": "python",
   "pygments_lexer": "ipython3",
   "version": "3.9.13"
  }
 },
 "nbformat": 4,
 "nbformat_minor": 5
}
